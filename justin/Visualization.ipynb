{
 "cells": [
  {
   "cell_type": "code",
   "execution_count": null,
   "metadata": {},
   "outputs": [],
   "source": [
    "import seaborn as sns\n",
    "import numpy as np\n",
    "import pandas as pd\n",
    "import matplotlib.pyplot as plt\n",
    "\n",
    "%matplotlib inline"
   ]
  },
  {
   "cell_type": "code",
   "execution_count": null,
   "metadata": {},
   "outputs": [],
   "source": [
    "# feature_labels = pd.read_csv(\"Entire Dataset/UNSW_2018_IoT_Botnet_Dataset_Feature_Names.csv\", sep=',')\n",
    "\n",
    "# counts = {\n",
    "#     'total': 0\n",
    "# }\n",
    "  \n",
    "# for i in range(1, 74):\n",
    "#     dataframe = pd.read_csv(f\"Entire Dataset/UNSW_2018_IoT_Botnet_Dataset_{i}.csv\", sep=',', header=None)\n",
    "    \n",
    "# #     print(dataframe.columns)\n",
    "# #     print(feature_labels.columns)\n",
    "    \n",
    "#     dataframe.columns = feature_labels.columns\n",
    "    \n",
    "# #     frame_counts = dataframe.groupby('category')['ID'].nunique()\n",
    "    \n",
    "#     frame_counts = dataframe['category'].value_counts().to_dict();\n",
    "    \n",
    "#     for cat in frame_counts:\n",
    "#         print(cat, frame_counts[cat])\n",
    "        \n",
    "#         if cat not in counts:\n",
    "#             counts[cat] = frame_counts[cat]\n",
    "#         else:\n",
    "#             counts[cat] += frame_counts[cat]\n",
    "    \n",
    "    \n",
    "#     counts['total'] += len(dataframe.index)\n",
    "    \n",
    "# for cat in counts:\n",
    "#     print(cat, counts[cat])"
   ]
  },
  {
   "cell_type": "code",
   "execution_count": null,
   "metadata": {},
   "outputs": [],
   "source": [
    "counts2 = {\n",
    "    'total': 0\n",
    "}\n",
    "  \n",
    "dataframe = pd.read_csv(\"UNSW_2018_IoT_Botnet_Final_10_Best.csv\", sep=';')\n",
    "\n",
    "print(dataframe.head())\n",
    "\n",
    "frame_counts = dataframe['category'].value_counts().to_dict();\n",
    "\n",
    "for cat in frame_counts:\n",
    "#     print(cat, frame_counts[cat])\n",
    "\n",
    "    if cat not in counts2:\n",
    "        counts2[cat] = frame_counts[cat]\n",
    "    else:\n",
    "        counts2[cat] += frame_counts[cat]\n",
    "\n",
    "\n",
    "counts2['total'] += len(dataframe.index)\n",
    "    \n",
    "for cat in counts2:\n",
    "    print(cat, counts2[cat])"
   ]
  },
  {
   "cell_type": "code",
   "execution_count": null,
   "metadata": {},
   "outputs": [],
   "source": [
    "\n",
    "# Scatterplot arguments\n",
    "# sns.pairplot(dataframe, hue='attack', corner=True)"
   ]
  },
  {
   "cell_type": "code",
   "execution_count": null,
   "metadata": {},
   "outputs": [],
   "source": [
    "dataframe = dataframe.drop(['proto', 'saddr', 'daddr', 'sport', 'dport', 'attack', 'subcategory'], axis = 1)\n",
    "\n",
    "print(dataframe.head())\n",
    "\n",
    "sns.pairplot(dataframe, hue='category', corner=True)\n",
    "plt.show()"
   ]
  },
  {
   "cell_type": "code",
   "execution_count": null,
   "metadata": {},
   "outputs": [],
   "source": []
  }
 ],
 "metadata": {
  "kernelspec": {
   "display_name": "Python 3",
   "language": "python",
   "name": "python3"
  },
  "language_info": {
   "codemirror_mode": {
    "name": "ipython",
    "version": 3
   },
   "file_extension": ".py",
   "mimetype": "text/x-python",
   "name": "python",
   "nbconvert_exporter": "python",
   "pygments_lexer": "ipython3",
   "version": "3.7.7"
  }
 },
 "nbformat": 4,
 "nbformat_minor": 4
}
